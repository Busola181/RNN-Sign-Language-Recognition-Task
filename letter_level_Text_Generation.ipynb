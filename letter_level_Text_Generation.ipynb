{
  "cells": [
    {
      "cell_type": "markdown",
      "metadata": {
        "id": "view-in-github",
        "colab_type": "text"
      },
      "source": [
        "<a href=\"https://colab.research.google.com/github/Busola181/SeqModel-Projects-/blob/main/letter_level_Text_Generation.ipynb\" target=\"_parent\"><img src=\"https://colab.research.google.com/assets/colab-badge.svg\" alt=\"Open In Colab\"/></a>"
      ]
    },
    {
      "cell_type": "code",
      "execution_count": null,
      "metadata": {
        "id": "wG_S_-6-ersq"
      },
      "outputs": [],
      "source": [
        "import torch.nn as nn\n",
        "import torch\n",
        "import numpy as np"
      ]
    },
    {
      "cell_type": "code",
      "execution_count": null,
      "metadata": {
        "colab": {
          "base_uri": "https://localhost:8080/"
        },
        "id": "BRL5P0EV2r37",
        "outputId": "4ecab596-6189-4c1e-cf11-403806ac6615"
      },
      "outputs": [
        {
          "output_type": "stream",
          "name": "stdout",
          "text": [
            "Drive already mounted at /content/drive; to attempt to forcibly remount, call drive.mount(\"/content/drive\", force_remount=True).\n"
          ]
        }
      ],
      "source": [
        "from google.colab import drive\n",
        "drive.mount('/content/drive')"
      ]
    },
    {
      "cell_type": "code",
      "execution_count": null,
      "metadata": {
        "id": "n6Gi12HvAXaG"
      },
      "outputs": [],
      "source": [
        "DATA_PATH=\"/content/drive/MyDrive/Deep_Learning/textGeneration/shakespeare.txt\"\n",
        "# DATA_PATH=\"/content/drive/MyDrive/shakespeare.txt\""
      ]
    },
    {
      "cell_type": "code",
      "execution_count": null,
      "metadata": {
        "id": "5xPyIoM8p7cX"
      },
      "outputs": [],
      "source": [
        "with open(DATA_PATH, 'r') as f:\n",
        "    content = f.read()\n",
        "\n",
        "chars = sorted(list(set(content)))"
      ]
    },
    {
      "cell_type": "code",
      "execution_count": null,
      "metadata": {
        "id": "LYS2m1pfqPDY"
      },
      "outputs": [],
      "source": [
        "idx_to_char = {i: char for i, char in enumerate(chars)}\n",
        "char_to_idx = {char: i for i, char in enumerate(chars)}"
      ]
    },
    {
      "cell_type": "code",
      "execution_count": null,
      "metadata": {
        "id": "r1QKMIE5ymeG"
      },
      "outputs": [],
      "source": [
        "def create_dataset(seq_length=100, data=\"\"):\n",
        "    inputs = []\n",
        "    targets = []\n",
        "    for i in range(len(content)-seq_length):\n",
        "        inputs.append([char_to_idx[char] for char in data[i:i+seq_length]])\n",
        "        targets.append([char_to_idx[char] for char in data[i+seq_length]])\n",
        "    return inputs, targets\n",
        "\n",
        "inputs, targets = create_dataset(data=content)"
      ]
    },
    {
      "cell_type": "code",
      "execution_count": null,
      "metadata": {
        "id": "FNLhrCkPwTSj",
        "colab": {
          "base_uri": "https://localhost:8080/"
        },
        "outputId": "04d37f89-0366-4d76-c923-64104e0e34c0"
      },
      "outputs": [
        {
          "output_type": "execute_result",
          "data": {
            "text/plain": [
              "TextGenNetwork(\n",
              "  (embedding): Embedding(91, 64)\n",
              "  (lstm): LSTM(64, 512, num_layers=2, batch_first=True)\n",
              "  (fc): Linear(in_features=512, out_features=91, bias=True)\n",
              ")"
            ]
          },
          "metadata": {},
          "execution_count": 7
        }
      ],
      "source": [
        "class TextGenNetwork(nn.Module):\n",
        "    def __init__(self):\n",
        "        super(TextGenNetwork, self).__init__()\n",
        "\n",
        "        self.embedding = nn.Embedding(num_embeddings=len(chars), embedding_dim=64)\n",
        "        self.lstm = nn.LSTM(input_size=64, hidden_size=512, num_layers=2, batch_first=True)\n",
        "        self.fc = nn.Linear(in_features=512, out_features=len(chars))\n",
        "\n",
        "    def forward(self, x, hidden=None, return_hidden=False):\n",
        "\n",
        "        x = self.embedding(x)\n",
        "        out, hidden = self.lstm(x, hidden)\n",
        "        out = self.fc(out[:, -1, :])\n",
        "\n",
        "        if return_hidden:\n",
        "            return out, hidden\n",
        "        return out\n",
        "\n",
        "    def init_hidden(self, batch_size):\n",
        "        return (torch.zeros(2, batch_size, 512).to(next(self.parameters()).device),\n",
        "                torch.zeros(2, batch_size, 512).to(next(self.parameters()).device))\n",
        "\n",
        "\n",
        "network = TextGenNetwork()\n",
        "device = torch.device(\"cuda\" if torch.cuda.is_available() else \"cpu\")\n",
        "network = network.to(device)\n",
        "network"
      ]
    },
    {
      "cell_type": "code",
      "execution_count": null,
      "metadata": {
        "colab": {
          "base_uri": "https://localhost:8080/"
        },
        "id": "7axvprsTQnic",
        "outputId": "8a18eceb-2aea-44ad-ab11-a95849b916a0"
      },
      "outputs": [
        {
          "output_type": "stream",
          "name": "stdout",
          "text": [
            "5458837\n"
          ]
        }
      ],
      "source": [
        "print(len(targets))"
      ]
    },
    {
      "cell_type": "code",
      "execution_count": null,
      "metadata": {
        "id": "fRl3BJ6myoEQ"
      },
      "outputs": [],
      "source": [
        "criterion = nn.CrossEntropyLoss()\n",
        "optimizer = torch.optim.Adam(network.parameters(), lr=0.01)\n",
        "\n",
        "batch_size = 2048\n",
        "n_epochs = 10"
      ]
    },
    {
      "cell_type": "code",
      "source": [
        "def train(model, inputs, targets, batch_size, n_epochs, seq_length=100):\n",
        "    model.train()  # Set the model to training mode\n",
        "\n",
        "    for epoch in range(n_epochs):\n",
        "        hidden = model.init_hidden(batch_size)  # Initialize hidden state\n",
        "\n",
        "        for i in range(0, len(inputs), batch_size):\n",
        "            x_batch = torch.tensor(inputs[i:i + batch_size]).to(device)\n",
        "            y_batch = torch.tensor(targets[i:i + batch_size]).to(device)\n",
        "\n",
        "            hidden = None\n",
        "\n",
        "            optimizer.zero_grad()\n",
        "\n",
        "            output, hidden = model(x_batch, hidden, return_hidden=True)\n",
        "\n",
        "            loss = criterion(output.view(-1, len(chars)), y_batch.view(-1))\n",
        "\n",
        "            loss.backward()\n",
        "            optimizer.step()\n",
        "            torch.save(model.state_dict(), '/content/drive/MyDrive/Deep_Learning/textGeneration/parameters.pth')\n",
        "\n",
        "        print(f'Epoch: {epoch+1}/{n_epochs}, Loss: {loss.item()}')"
      ],
      "metadata": {
        "id": "q01HitZTCDhH"
      },
      "execution_count": null,
      "outputs": []
    },
    {
      "cell_type": "code",
      "execution_count": null,
      "metadata": {
        "id": "ZdepvHTKhau0"
      },
      "outputs": [],
      "source": [
        "train(network, inputs, targets, batch_size, n_epochs)"
      ]
    },
    {
      "cell_type": "code",
      "execution_count": null,
      "metadata": {
        "id": "XlIx48aEjGF3",
        "colab": {
          "base_uri": "https://localhost:8080/"
        },
        "outputId": "4239a1ba-954b-4b80-9b9d-cfe05e4499cd"
      },
      "outputs": [
        {
          "output_type": "stream",
          "name": "stdout",
          "text": [
            "Once upon a posest,\n",
            "  Of virting fair him all on see,\n",
            "  And that I music forth thy to ecall by th' usine with thy see of the beauty please that a most thou dead nertate becaty or my the reasure,\n",
            "  \n",
            "  Aourse be than My few where,\n",
            "  Thou art not do me?\n",
            "  And it of siuse, or the is beauty not flowery be that silved,\n",
            "  And my love prispire, is thou disperked,\n",
            "  But doth love how though the sull my lovered by apperingings,\n",
            "  And your but ending hold it to love not stept tence bestrain my must panness bear\n",
            "  Surry of teals think day,\n",
            "  That there have ever seasure,\n",
            "    I thy collow thou so cold stand in on forth,\n",
            "  Expause that thou love,\n",
            "  To served my not she, and is the it as I Jutter lains,\n",
            "  Which my heaven for that thou art the can withour's morn a that you had has vine there,\n",
            "  But a fece of thy be me my toon\n",
            "    Their panse eyes thy poinged of thee no better be which do sune thou where self,\n",
            "  Sir Juls, by thou it fire.\n",
            "\n",
            "\n",
            "                                                                          \n"
          ]
        }
      ],
      "source": [
        "def generate_text(model, start_str, n_chars, temperature=1.0):\n",
        "    model.eval()\n",
        "\n",
        "    input_seq = torch.tensor([char_to_idx[char] for char in start_str], dtype=torch.long).unsqueeze(0).to(device)\n",
        "\n",
        "    generated_text = start_str\n",
        "    hidden = None\n",
        "\n",
        "    for _ in range(n_chars):\n",
        "        output, hidden = model(input_seq, hidden, return_hidden=True)\n",
        "\n",
        "        output = output / temperature\n",
        "        probs = torch.softmax(output, dim=1).detach().cpu().numpy()\n",
        "\n",
        "        next_char_idx = np.random.choice(len(chars), p=probs[0])\n",
        "        next_char = idx_to_char[next_char_idx]\n",
        "\n",
        "        generated_text += next_char\n",
        "\n",
        "        input_seq = torch.tensor([[next_char_idx]], dtype=torch.long).to(device)\n",
        "\n",
        "    return generated_text\n",
        "\n",
        "start_str = \"Once upon a \"\n",
        "generated_text = generate_text(network, start_str, 1000, temperature=0.8)\n",
        "print(generated_text)\n"
      ]
    },
    {
      "cell_type": "code",
      "source": [],
      "metadata": {
        "id": "RwcfnaZJtiun"
      },
      "execution_count": null,
      "outputs": []
    }
  ],
  "metadata": {
    "accelerator": "GPU",
    "colab": {
      "gpuType": "T4",
      "provenance": [],
      "include_colab_link": true
    },
    "kernelspec": {
      "display_name": "Python 3",
      "name": "python3"
    },
    "language_info": {
      "name": "python"
    }
  },
  "nbformat": 4,
  "nbformat_minor": 0
}